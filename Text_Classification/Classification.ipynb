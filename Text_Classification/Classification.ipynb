{
 "cells": [
  {
   "cell_type": "code",
   "execution_count": 1,
   "id": "8fc3c029",
   "metadata": {},
   "outputs": [],
   "source": [
    "import pandas as pd\n",
    "import numpy as np\n",
    "from sklearn.metrics import accuracy_score,precision_score,recall_score,f1_score,confusion_matrix\n",
    "import seaborn as sb\n",
    "import matplotlib.pyplot as plt"
   ]
  },
  {
   "cell_type": "code",
   "execution_count": 2,
   "id": "2465227a",
   "metadata": {},
   "outputs": [],
   "source": [
    "f1=pd.read_csv(\"DRDO.csv\")\n",
    "f2=pd.read_csv(\"FIFA.csv\")\n",
    "f3=pd.read_csv(\"WHO.csv\")"
   ]
  },
  {
   "cell_type": "code",
   "execution_count": 3,
   "id": "ff1de2e7",
   "metadata": {},
   "outputs": [
    {
     "data": {
      "text/html": [
       "<div>\n",
       "<style scoped>\n",
       "    .dataframe tbody tr th:only-of-type {\n",
       "        vertical-align: middle;\n",
       "    }\n",
       "\n",
       "    .dataframe tbody tr th {\n",
       "        vertical-align: top;\n",
       "    }\n",
       "\n",
       "    .dataframe thead th {\n",
       "        text-align: right;\n",
       "    }\n",
       "</style>\n",
       "<table border=\"1\" class=\"dataframe\">\n",
       "  <thead>\n",
       "    <tr style=\"text-align: right;\">\n",
       "      <th></th>\n",
       "      <th>Tweet</th>\n",
       "      <th>Label</th>\n",
       "    </tr>\n",
       "  </thead>\n",
       "  <tbody>\n",
       "    <tr>\n",
       "      <th>0</th>\n",
       "      <td>Congratulations @BrahMosMissile team for 25 ye...</td>\n",
       "      <td>Technology</td>\n",
       "    </tr>\n",
       "    <tr>\n",
       "      <th>1</th>\n",
       "      <td>SemEval (the International Workshop on Semanti...</td>\n",
       "      <td>Technology</td>\n",
       "    </tr>\n",
       "    <tr>\n",
       "      <th>2</th>\n",
       "      <td>#DRDOUpdates | In SemEval 2023 Task 2: Multili...</td>\n",
       "      <td>Technology</td>\n",
       "    </tr>\n",
       "    <tr>\n",
       "      <th>3</th>\n",
       "      <td>A panel discussion on \"The Perspectives of Res...</td>\n",
       "      <td>Technology</td>\n",
       "    </tr>\n",
       "    <tr>\n",
       "      <th>4</th>\n",
       "      <td>Many eminent keynote speakers from #DRDO, @IAF...</td>\n",
       "      <td>Technology</td>\n",
       "    </tr>\n",
       "    <tr>\n",
       "      <th>...</th>\n",
       "      <td>...</td>\n",
       "      <td>...</td>\n",
       "    </tr>\n",
       "    <tr>\n",
       "      <th>996</th>\n",
       "      <td>@DrTedros \"WHO continues to urge caution, and ...</td>\n",
       "      <td>Health</td>\n",
       "    </tr>\n",
       "    <tr>\n",
       "      <th>997</th>\n",
       "      <td>@DrTedros \"Testing and sequencing rates remain...</td>\n",
       "      <td>Health</td>\n",
       "    </tr>\n",
       "    <tr>\n",
       "      <th>998</th>\n",
       "      <td>@DrTedros \"We have come a long way, and this i...</td>\n",
       "      <td>Health</td>\n",
       "    </tr>\n",
       "    <tr>\n",
       "      <th>999</th>\n",
       "      <td>@DrTedros \"Just over 9,400 #COVID19 deaths wer...</td>\n",
       "      <td>Health</td>\n",
       "    </tr>\n",
       "    <tr>\n",
       "      <th>1000</th>\n",
       "      <td>@DrTedros \"To fund our work supporting the Gov...</td>\n",
       "      <td>Health</td>\n",
       "    </tr>\n",
       "  </tbody>\n",
       "</table>\n",
       "<p>3003 rows × 2 columns</p>\n",
       "</div>"
      ],
      "text/plain": [
       "                                                  Tweet       Label\n",
       "0     Congratulations @BrahMosMissile team for 25 ye...  Technology\n",
       "1     SemEval (the International Workshop on Semanti...  Technology\n",
       "2     #DRDOUpdates | In SemEval 2023 Task 2: Multili...  Technology\n",
       "3     A panel discussion on \"The Perspectives of Res...  Technology\n",
       "4     Many eminent keynote speakers from #DRDO, @IAF...  Technology\n",
       "...                                                 ...         ...\n",
       "996   @DrTedros \"WHO continues to urge caution, and ...      Health\n",
       "997   @DrTedros \"Testing and sequencing rates remain...      Health\n",
       "998   @DrTedros \"We have come a long way, and this i...      Health\n",
       "999   @DrTedros \"Just over 9,400 #COVID19 deaths wer...      Health\n",
       "1000  @DrTedros \"To fund our work supporting the Gov...      Health\n",
       "\n",
       "[3003 rows x 2 columns]"
      ]
     },
     "execution_count": 3,
     "metadata": {},
     "output_type": "execute_result"
    }
   ],
   "source": [
    "df=pd.concat([f1,f2,f3])\n",
    "df=df.drop('Unnamed: 0',axis=1)\n",
    "df"
   ]
  },
  {
   "cell_type": "code",
   "execution_count": 4,
   "id": "c51eab3a",
   "metadata": {},
   "outputs": [],
   "source": [
    "#preprocessing\n",
    "\n",
    "import re\n",
    "import string\n",
    "\n",
    "def urlRemove(tweet):\n",
    "    tweet=re.sub(r\"(?i)\\b((?:https?://|www\\d{0,3}[.]|[a-z0-9.\\-]+[.][a-z]{2,4}/)(?:[^\\s()<>]+|\\(([^\\s()<>]+|(\\([^\\s()<>]+\\)))*\\))+(?:\\(([^\\s()<>]+|(\\([^\\s()<>]+\\)))*\\)|[^\\s`!()\\[\\]{};:'\\\".,<>?«»“”‘’]))\",'',tweet)\n",
    "    tweet=tweet.strip().replace('\\n', '')\n",
    "    tweet=\"\".join([i for i in tweet if i not in string.punctuation])\n",
    "    tweet=re.sub(r'\\s+', ' ', tweet)\n",
    "    return tweet.lower()"
   ]
  },
  {
   "cell_type": "code",
   "execution_count": 5,
   "id": "c5556bd4",
   "metadata": {},
   "outputs": [
    {
     "data": {
      "text/html": [
       "<div>\n",
       "<style scoped>\n",
       "    .dataframe tbody tr th:only-of-type {\n",
       "        vertical-align: middle;\n",
       "    }\n",
       "\n",
       "    .dataframe tbody tr th {\n",
       "        vertical-align: top;\n",
       "    }\n",
       "\n",
       "    .dataframe thead th {\n",
       "        text-align: right;\n",
       "    }\n",
       "</style>\n",
       "<table border=\"1\" class=\"dataframe\">\n",
       "  <thead>\n",
       "    <tr style=\"text-align: right;\">\n",
       "      <th></th>\n",
       "      <th>Tweet</th>\n",
       "      <th>Label</th>\n",
       "      <th>newTweet1</th>\n",
       "    </tr>\n",
       "  </thead>\n",
       "  <tbody>\n",
       "    <tr>\n",
       "      <th>0</th>\n",
       "      <td>Congratulations @BrahMosMissile team for 25 ye...</td>\n",
       "      <td>Technology</td>\n",
       "      <td>congratulations brahmosmissile team for 25 yea...</td>\n",
       "    </tr>\n",
       "    <tr>\n",
       "      <th>1</th>\n",
       "      <td>SemEval (the International Workshop on Semanti...</td>\n",
       "      <td>Technology</td>\n",
       "      <td>semeval the international workshop on semantic...</td>\n",
       "    </tr>\n",
       "    <tr>\n",
       "      <th>2</th>\n",
       "      <td>#DRDOUpdates | In SemEval 2023 Task 2: Multili...</td>\n",
       "      <td>Technology</td>\n",
       "      <td>drdoupdates in semeval 2023 task 2 multilingua...</td>\n",
       "    </tr>\n",
       "    <tr>\n",
       "      <th>3</th>\n",
       "      <td>A panel discussion on \"The Perspectives of Res...</td>\n",
       "      <td>Technology</td>\n",
       "      <td>a panel discussion on the perspectives of rese...</td>\n",
       "    </tr>\n",
       "    <tr>\n",
       "      <th>4</th>\n",
       "      <td>Many eminent keynote speakers from #DRDO, @IAF...</td>\n",
       "      <td>Technology</td>\n",
       "      <td>many eminent keynote speakers from drdo iafmcc...</td>\n",
       "    </tr>\n",
       "    <tr>\n",
       "      <th>...</th>\n",
       "      <td>...</td>\n",
       "      <td>...</td>\n",
       "      <td>...</td>\n",
       "    </tr>\n",
       "    <tr>\n",
       "      <th>996</th>\n",
       "      <td>@DrTedros \"WHO continues to urge caution, and ...</td>\n",
       "      <td>Health</td>\n",
       "      <td>drtedros who continues to urge caution and we ...</td>\n",
       "    </tr>\n",
       "    <tr>\n",
       "      <th>997</th>\n",
       "      <td>@DrTedros \"Testing and sequencing rates remain...</td>\n",
       "      <td>Health</td>\n",
       "      <td>drtedros testing and sequencing rates remain l...</td>\n",
       "    </tr>\n",
       "    <tr>\n",
       "      <th>998</th>\n",
       "      <td>@DrTedros \"We have come a long way, and this i...</td>\n",
       "      <td>Health</td>\n",
       "      <td>drtedros we have come a long way and this is d...</td>\n",
       "    </tr>\n",
       "    <tr>\n",
       "      <th>999</th>\n",
       "      <td>@DrTedros \"Just over 9,400 #COVID19 deaths wer...</td>\n",
       "      <td>Health</td>\n",
       "      <td>drtedros just over 9400 covid19 deaths were re...</td>\n",
       "    </tr>\n",
       "    <tr>\n",
       "      <th>1000</th>\n",
       "      <td>@DrTedros \"To fund our work supporting the Gov...</td>\n",
       "      <td>Health</td>\n",
       "      <td>drtedros to fund our work supporting the gover...</td>\n",
       "    </tr>\n",
       "  </tbody>\n",
       "</table>\n",
       "<p>3003 rows × 3 columns</p>\n",
       "</div>"
      ],
      "text/plain": [
       "                                                  Tweet       Label  \\\n",
       "0     Congratulations @BrahMosMissile team for 25 ye...  Technology   \n",
       "1     SemEval (the International Workshop on Semanti...  Technology   \n",
       "2     #DRDOUpdates | In SemEval 2023 Task 2: Multili...  Technology   \n",
       "3     A panel discussion on \"The Perspectives of Res...  Technology   \n",
       "4     Many eminent keynote speakers from #DRDO, @IAF...  Technology   \n",
       "...                                                 ...         ...   \n",
       "996   @DrTedros \"WHO continues to urge caution, and ...      Health   \n",
       "997   @DrTedros \"Testing and sequencing rates remain...      Health   \n",
       "998   @DrTedros \"We have come a long way, and this i...      Health   \n",
       "999   @DrTedros \"Just over 9,400 #COVID19 deaths wer...      Health   \n",
       "1000  @DrTedros \"To fund our work supporting the Gov...      Health   \n",
       "\n",
       "                                              newTweet1  \n",
       "0     congratulations brahmosmissile team for 25 yea...  \n",
       "1     semeval the international workshop on semantic...  \n",
       "2     drdoupdates in semeval 2023 task 2 multilingua...  \n",
       "3     a panel discussion on the perspectives of rese...  \n",
       "4     many eminent keynote speakers from drdo iafmcc...  \n",
       "...                                                 ...  \n",
       "996   drtedros who continues to urge caution and we ...  \n",
       "997   drtedros testing and sequencing rates remain l...  \n",
       "998   drtedros we have come a long way and this is d...  \n",
       "999   drtedros just over 9400 covid19 deaths were re...  \n",
       "1000  drtedros to fund our work supporting the gover...  \n",
       "\n",
       "[3003 rows x 3 columns]"
      ]
     },
     "execution_count": 5,
     "metadata": {},
     "output_type": "execute_result"
    }
   ],
   "source": [
    "df['newTweet1']=df['Tweet'].apply(lambda x: urlRemove(x))\n",
    "df"
   ]
  },
  {
   "cell_type": "code",
   "execution_count": 6,
   "id": "de3523e2",
   "metadata": {},
   "outputs": [],
   "source": [
    "#lemmatization\n",
    "\n",
    "import nltk\n",
    "from nltk.stem import WordNetLemmatizer\n",
    "\n",
    "def lemmatizeTweet(tweet):\n",
    "    tokens=re.split(' ',tweet)\n",
    "    stopwords=nltk.corpus.stopwords.words('english')\n",
    "    tokens= [i for i in tokens if i not in stopwords]\n",
    "    lemmatizer=WordNetLemmatizer()\n",
    "    lemm_text = [lemmatizer.lemmatize(word) for word in tokens]\n",
    "    lemm_text=\" \".join(lemm_text)\n",
    "    return lemm_text"
   ]
  },
  {
   "cell_type": "code",
   "execution_count": 7,
   "id": "6431bdab",
   "metadata": {},
   "outputs": [
    {
     "data": {
      "text/html": [
       "<div>\n",
       "<style scoped>\n",
       "    .dataframe tbody tr th:only-of-type {\n",
       "        vertical-align: middle;\n",
       "    }\n",
       "\n",
       "    .dataframe tbody tr th {\n",
       "        vertical-align: top;\n",
       "    }\n",
       "\n",
       "    .dataframe thead th {\n",
       "        text-align: right;\n",
       "    }\n",
       "</style>\n",
       "<table border=\"1\" class=\"dataframe\">\n",
       "  <thead>\n",
       "    <tr style=\"text-align: right;\">\n",
       "      <th></th>\n",
       "      <th>Label</th>\n",
       "      <th>newTweet</th>\n",
       "    </tr>\n",
       "  </thead>\n",
       "  <tbody>\n",
       "    <tr>\n",
       "      <th>0</th>\n",
       "      <td>Technology</td>\n",
       "      <td>congratulation brahmosmissile team 25 year glo...</td>\n",
       "    </tr>\n",
       "    <tr>\n",
       "      <th>1</th>\n",
       "      <td>Technology</td>\n",
       "      <td>semeval international workshop semantic evalua...</td>\n",
       "    </tr>\n",
       "    <tr>\n",
       "      <th>2</th>\n",
       "      <td>Technology</td>\n",
       "      <td>drdoupdates semeval 2023 task 2 multilingual c...</td>\n",
       "    </tr>\n",
       "    <tr>\n",
       "      <th>3</th>\n",
       "      <td>Technology</td>\n",
       "      <td>panel discussion perspective research developm...</td>\n",
       "    </tr>\n",
       "    <tr>\n",
       "      <th>4</th>\n",
       "      <td>Technology</td>\n",
       "      <td>many eminent keynote speaker drdo iafmcc halhq...</td>\n",
       "    </tr>\n",
       "    <tr>\n",
       "      <th>...</th>\n",
       "      <td>...</td>\n",
       "      <td>...</td>\n",
       "    </tr>\n",
       "    <tr>\n",
       "      <th>996</th>\n",
       "      <td>Health</td>\n",
       "      <td>drtedros continues urge caution continue urge ...</td>\n",
       "    </tr>\n",
       "    <tr>\n",
       "      <th>997</th>\n",
       "      <td>Health</td>\n",
       "      <td>drtedros testing sequencing rate remain low gl...</td>\n",
       "    </tr>\n",
       "    <tr>\n",
       "      <th>998</th>\n",
       "      <td>Health</td>\n",
       "      <td>drtedros come long way definitely cause optimi...</td>\n",
       "    </tr>\n",
       "    <tr>\n",
       "      <th>999</th>\n",
       "      <td>Health</td>\n",
       "      <td>drtedros 9400 covid19 death reported last week...</td>\n",
       "    </tr>\n",
       "    <tr>\n",
       "      <th>1000</th>\n",
       "      <td>Health</td>\n",
       "      <td>drtedros fund work supporting government ugand...</td>\n",
       "    </tr>\n",
       "  </tbody>\n",
       "</table>\n",
       "<p>3003 rows × 2 columns</p>\n",
       "</div>"
      ],
      "text/plain": [
       "           Label                                           newTweet\n",
       "0     Technology  congratulation brahmosmissile team 25 year glo...\n",
       "1     Technology  semeval international workshop semantic evalua...\n",
       "2     Technology  drdoupdates semeval 2023 task 2 multilingual c...\n",
       "3     Technology  panel discussion perspective research developm...\n",
       "4     Technology  many eminent keynote speaker drdo iafmcc halhq...\n",
       "...          ...                                                ...\n",
       "996       Health  drtedros continues urge caution continue urge ...\n",
       "997       Health  drtedros testing sequencing rate remain low gl...\n",
       "998       Health  drtedros come long way definitely cause optimi...\n",
       "999       Health  drtedros 9400 covid19 death reported last week...\n",
       "1000      Health  drtedros fund work supporting government ugand...\n",
       "\n",
       "[3003 rows x 2 columns]"
      ]
     },
     "execution_count": 7,
     "metadata": {},
     "output_type": "execute_result"
    }
   ],
   "source": [
    "import nltk\n",
    "\n",
    "df['newTweet']=df['newTweet1'].apply(lambda x: lemmatizeTweet(x))\n",
    "df=df.drop('Tweet',axis=1)\n",
    "df=df.drop('newTweet1',axis=1)\n",
    "df"
   ]
  },
  {
   "cell_type": "code",
   "execution_count": 8,
   "id": "5808d108",
   "metadata": {},
   "outputs": [],
   "source": [
    "# df=df.sample(frac=1)\n",
    "x=df['newTweet']\n",
    "y=df['Label']"
   ]
  },
  {
   "cell_type": "code",
   "execution_count": 9,
   "id": "2150bcaa",
   "metadata": {},
   "outputs": [],
   "source": [
    "from sklearn.preprocessing import LabelEncoder\n",
    "\n",
    "encoder=LabelEncoder()\n",
    "y=encoder.fit_transform(y)"
   ]
  },
  {
   "cell_type": "code",
   "execution_count": 10,
   "id": "67c8dbf1",
   "metadata": {},
   "outputs": [],
   "source": [
    "#splitting data into train and test sets\n",
    "from sklearn.model_selection import train_test_split\n",
    "\n",
    "x_train,x_test,y_train,y_test=train_test_split(x,y,test_size=0.3,random_state=43)"
   ]
  },
  {
   "cell_type": "code",
   "execution_count": 11,
   "id": "93873b02",
   "metadata": {},
   "outputs": [],
   "source": [
    "from sklearn.feature_extraction.text import TfidfVectorizer\n",
    "tf_idf=TfidfVectorizer(ngram_range=(1,2))\n",
    "\n",
    "x_train=tf_idf.fit_transform(x_train)\n",
    "x_test=tf_idf.transform(x_test)\n",
    "\n",
    "x_train=x_train.toarray()\n",
    "x_test=x_test.toarray()"
   ]
  },
  {
   "cell_type": "code",
   "execution_count": 12,
   "id": "b850787e",
   "metadata": {},
   "outputs": [
    {
     "data": {
      "text/html": [
       "<style>#sk-container-id-1 {color: black;background-color: white;}#sk-container-id-1 pre{padding: 0;}#sk-container-id-1 div.sk-toggleable {background-color: white;}#sk-container-id-1 label.sk-toggleable__label {cursor: pointer;display: block;width: 100%;margin-bottom: 0;padding: 0.3em;box-sizing: border-box;text-align: center;}#sk-container-id-1 label.sk-toggleable__label-arrow:before {content: \"▸\";float: left;margin-right: 0.25em;color: #696969;}#sk-container-id-1 label.sk-toggleable__label-arrow:hover:before {color: black;}#sk-container-id-1 div.sk-estimator:hover label.sk-toggleable__label-arrow:before {color: black;}#sk-container-id-1 div.sk-toggleable__content {max-height: 0;max-width: 0;overflow: hidden;text-align: left;background-color: #f0f8ff;}#sk-container-id-1 div.sk-toggleable__content pre {margin: 0.2em;color: black;border-radius: 0.25em;background-color: #f0f8ff;}#sk-container-id-1 input.sk-toggleable__control:checked~div.sk-toggleable__content {max-height: 200px;max-width: 100%;overflow: auto;}#sk-container-id-1 input.sk-toggleable__control:checked~label.sk-toggleable__label-arrow:before {content: \"▾\";}#sk-container-id-1 div.sk-estimator input.sk-toggleable__control:checked~label.sk-toggleable__label {background-color: #d4ebff;}#sk-container-id-1 div.sk-label input.sk-toggleable__control:checked~label.sk-toggleable__label {background-color: #d4ebff;}#sk-container-id-1 input.sk-hidden--visually {border: 0;clip: rect(1px 1px 1px 1px);clip: rect(1px, 1px, 1px, 1px);height: 1px;margin: -1px;overflow: hidden;padding: 0;position: absolute;width: 1px;}#sk-container-id-1 div.sk-estimator {font-family: monospace;background-color: #f0f8ff;border: 1px dotted black;border-radius: 0.25em;box-sizing: border-box;margin-bottom: 0.5em;}#sk-container-id-1 div.sk-estimator:hover {background-color: #d4ebff;}#sk-container-id-1 div.sk-parallel-item::after {content: \"\";width: 100%;border-bottom: 1px solid gray;flex-grow: 1;}#sk-container-id-1 div.sk-label:hover label.sk-toggleable__label {background-color: #d4ebff;}#sk-container-id-1 div.sk-serial::before {content: \"\";position: absolute;border-left: 1px solid gray;box-sizing: border-box;top: 0;bottom: 0;left: 50%;z-index: 0;}#sk-container-id-1 div.sk-serial {display: flex;flex-direction: column;align-items: center;background-color: white;padding-right: 0.2em;padding-left: 0.2em;position: relative;}#sk-container-id-1 div.sk-item {position: relative;z-index: 1;}#sk-container-id-1 div.sk-parallel {display: flex;align-items: stretch;justify-content: center;background-color: white;position: relative;}#sk-container-id-1 div.sk-item::before, #sk-container-id-1 div.sk-parallel-item::before {content: \"\";position: absolute;border-left: 1px solid gray;box-sizing: border-box;top: 0;bottom: 0;left: 50%;z-index: -1;}#sk-container-id-1 div.sk-parallel-item {display: flex;flex-direction: column;z-index: 1;position: relative;background-color: white;}#sk-container-id-1 div.sk-parallel-item:first-child::after {align-self: flex-end;width: 50%;}#sk-container-id-1 div.sk-parallel-item:last-child::after {align-self: flex-start;width: 50%;}#sk-container-id-1 div.sk-parallel-item:only-child::after {width: 0;}#sk-container-id-1 div.sk-dashed-wrapped {border: 1px dashed gray;margin: 0 0.4em 0.5em 0.4em;box-sizing: border-box;padding-bottom: 0.4em;background-color: white;}#sk-container-id-1 div.sk-label label {font-family: monospace;font-weight: bold;display: inline-block;line-height: 1.2em;}#sk-container-id-1 div.sk-label-container {text-align: center;}#sk-container-id-1 div.sk-container {/* jupyter's `normalize.less` sets `[hidden] { display: none; }` but bootstrap.min.css set `[hidden] { display: none !important; }` so we also need the `!important` here to be able to override the default hidden behavior on the sphinx rendered scikit-learn.org. See: https://github.com/scikit-learn/scikit-learn/issues/21755 */display: inline-block !important;position: relative;}#sk-container-id-1 div.sk-text-repr-fallback {display: none;}</style><div id=\"sk-container-id-1\" class=\"sk-top-container\"><div class=\"sk-text-repr-fallback\"><pre>GaussianNB()</pre><b>In a Jupyter environment, please rerun this cell to show the HTML representation or trust the notebook. <br />On GitHub, the HTML representation is unable to render, please try loading this page with nbviewer.org.</b></div><div class=\"sk-container\" hidden><div class=\"sk-item\"><div class=\"sk-estimator sk-toggleable\"><input class=\"sk-toggleable__control sk-hidden--visually\" id=\"sk-estimator-id-1\" type=\"checkbox\" checked><label for=\"sk-estimator-id-1\" class=\"sk-toggleable__label sk-toggleable__label-arrow\">GaussianNB</label><div class=\"sk-toggleable__content\"><pre>GaussianNB()</pre></div></div></div></div></div>"
      ],
      "text/plain": [
       "GaussianNB()"
      ]
     },
     "execution_count": 12,
     "metadata": {},
     "output_type": "execute_result"
    }
   ],
   "source": [
    "from sklearn.naive_bayes import GaussianNB\n",
    "\n",
    "gnb=GaussianNB()\n",
    "gnb.fit(x_train,y_train)"
   ]
  },
  {
   "cell_type": "code",
   "execution_count": 13,
   "id": "c74c8d2c",
   "metadata": {},
   "outputs": [],
   "source": [
    "y_pred=gnb.predict(x_test)"
   ]
  },
  {
   "cell_type": "code",
   "execution_count": 14,
   "id": "3e1cbafb",
   "metadata": {},
   "outputs": [
    {
     "name": "stdout",
     "output_type": "stream",
     "text": [
      "Accuracy Score = 94.67\n",
      "Precision Score = 94.77\n",
      "Recall Score = 94.67\n",
      "F1 Score = 94.66\n"
     ]
    }
   ],
   "source": [
    "acc=accuracy_score(y_pred,y_test)\n",
    "print('Accuracy Score = %0.2F'%(acc*100))\n",
    "prec=precision_score(y_pred,y_test,average='weighted')\n",
    "print('Precision Score = %0.2F'%(prec*100))\n",
    "rec=recall_score(y_pred,y_test,average='weighted')\n",
    "print('Recall Score = %0.2F'%(rec*100))\n",
    "f1=f1_score(y_pred,y_test,average='weighted')\n",
    "print('F1 Score = %0.2F'%(f1*100))"
   ]
  },
  {
   "cell_type": "code",
   "execution_count": 15,
   "id": "4f123a06",
   "metadata": {},
   "outputs": [
    {
     "data": {
      "text/plain": [
       "array([[310,  12,   3],\n",
       "       [  7, 275,  22],\n",
       "       [  1,   3, 268]], dtype=int64)"
      ]
     },
     "execution_count": 15,
     "metadata": {},
     "output_type": "execute_result"
    }
   ],
   "source": [
    "con=confusion_matrix(y_pred,y_test)\n",
    "con"
   ]
  },
  {
   "cell_type": "code",
   "execution_count": 16,
   "id": "ff4892bc",
   "metadata": {},
   "outputs": [
    {
     "data": {
      "image/png": "[encoded data removed]",
      "text/plain": [
       "<Figure size 640x480 with 2 Axes>"
      ]
     },
     "metadata": {},
     "output_type": "display_data"
    }
   ],
   "source": [
    "ax= plt.subplot()\n",
    "sb.heatmap(con, annot=True, fmt='g',cmap='Blues')\n",
    "\n",
    "# labels, title and ticks\n",
    "ax.set_xlabel('Predicted labels')\n",
    "ax.set_ylabel('True labels')\n",
    "ax.set_title('Heat Map for Gaussian Naive Bayes Classification')\n",
    "ax.xaxis.set_ticklabels(['Technology','Sports','Health'])\n",
    "ax.yaxis.set_ticklabels(['Technology','Sports','Health']);\n"
   ]
  },
  {
   "cell_type": "code",
   "execution_count": 17,
   "id": "0fe9ba0f",
   "metadata": {},
   "outputs": [
    {
     "data": {
      "text/html": [
       "<style>#sk-container-id-2 {color: black;background-color: white;}#sk-container-id-2 pre{padding: 0;}#sk-container-id-2 div.sk-toggleable {background-color: white;}#sk-container-id-2 label.sk-toggleable__label {cursor: pointer;display: block;width: 100%;margin-bottom: 0;padding: 0.3em;box-sizing: border-box;text-align: center;}#sk-container-id-2 label.sk-toggleable__label-arrow:before {content: \"▸\";float: left;margin-right: 0.25em;color: #696969;}#sk-container-id-2 label.sk-toggleable__label-arrow:hover:before {color: black;}#sk-container-id-2 div.sk-estimator:hover label.sk-toggleable__label-arrow:before {color: black;}#sk-container-id-2 div.sk-toggleable__content {max-height: 0;max-width: 0;overflow: hidden;text-align: left;background-color: #f0f8ff;}#sk-container-id-2 div.sk-toggleable__content pre {margin: 0.2em;color: black;border-radius: 0.25em;background-color: #f0f8ff;}#sk-container-id-2 input.sk-toggleable__control:checked~div.sk-toggleable__content {max-height: 200px;max-width: 100%;overflow: auto;}#sk-container-id-2 input.sk-toggleable__control:checked~label.sk-toggleable__label-arrow:before {content: \"▾\";}#sk-container-id-2 div.sk-estimator input.sk-toggleable__control:checked~label.sk-toggleable__label {background-color: #d4ebff;}#sk-container-id-2 div.sk-label input.sk-toggleable__control:checked~label.sk-toggleable__label {background-color: #d4ebff;}#sk-container-id-2 input.sk-hidden--visually {border: 0;clip: rect(1px 1px 1px 1px);clip: rect(1px, 1px, 1px, 1px);height: 1px;margin: -1px;overflow: hidden;padding: 0;position: absolute;width: 1px;}#sk-container-id-2 div.sk-estimator {font-family: monospace;background-color: #f0f8ff;border: 1px dotted black;border-radius: 0.25em;box-sizing: border-box;margin-bottom: 0.5em;}#sk-container-id-2 div.sk-estimator:hover {background-color: #d4ebff;}#sk-container-id-2 div.sk-parallel-item::after {content: \"\";width: 100%;border-bottom: 1px solid gray;flex-grow: 1;}#sk-container-id-2 div.sk-label:hover label.sk-toggleable__label {background-color: #d4ebff;}#sk-container-id-2 div.sk-serial::before {content: \"\";position: absolute;border-left: 1px solid gray;box-sizing: border-box;top: 0;bottom: 0;left: 50%;z-index: 0;}#sk-container-id-2 div.sk-serial {display: flex;flex-direction: column;align-items: center;background-color: white;padding-right: 0.2em;padding-left: 0.2em;position: relative;}#sk-container-id-2 div.sk-item {position: relative;z-index: 1;}#sk-container-id-2 div.sk-parallel {display: flex;align-items: stretch;justify-content: center;background-color: white;position: relative;}#sk-container-id-2 div.sk-item::before, #sk-container-id-2 div.sk-parallel-item::before {content: \"\";position: absolute;border-left: 1px solid gray;box-sizing: border-box;top: 0;bottom: 0;left: 50%;z-index: -1;}#sk-container-id-2 div.sk-parallel-item {display: flex;flex-direction: column;z-index: 1;position: relative;background-color: white;}#sk-container-id-2 div.sk-parallel-item:first-child::after {align-self: flex-end;width: 50%;}#sk-container-id-2 div.sk-parallel-item:last-child::after {align-self: flex-start;width: 50%;}#sk-container-id-2 div.sk-parallel-item:only-child::after {width: 0;}#sk-container-id-2 div.sk-dashed-wrapped {border: 1px dashed gray;margin: 0 0.4em 0.5em 0.4em;box-sizing: border-box;padding-bottom: 0.4em;background-color: white;}#sk-container-id-2 div.sk-label label {font-family: monospace;font-weight: bold;display: inline-block;line-height: 1.2em;}#sk-container-id-2 div.sk-label-container {text-align: center;}#sk-container-id-2 div.sk-container {/* jupyter's `normalize.less` sets `[hidden] { display: none; }` but bootstrap.min.css set `[hidden] { display: none !important; }` so we also need the `!important` here to be able to override the default hidden behavior on the sphinx rendered scikit-learn.org. See: https://github.com/scikit-learn/scikit-learn/issues/21755 */display: inline-block !important;position: relative;}#sk-container-id-2 div.sk-text-repr-fallback {display: none;}</style><div id=\"sk-container-id-2\" class=\"sk-top-container\"><div class=\"sk-text-repr-fallback\"><pre>LogisticRegression()</pre><b>In a Jupyter environment, please rerun this cell to show the HTML representation or trust the notebook. <br />On GitHub, the HTML representation is unable to render, please try loading this page with nbviewer.org.</b></div><div class=\"sk-container\" hidden><div class=\"sk-item\"><div class=\"sk-estimator sk-toggleable\"><input class=\"sk-toggleable__control sk-hidden--visually\" id=\"sk-estimator-id-2\" type=\"checkbox\" checked><label for=\"sk-estimator-id-2\" class=\"sk-toggleable__label sk-toggleable__label-arrow\">LogisticRegression</label><div class=\"sk-toggleable__content\"><pre>LogisticRegression()</pre></div></div></div></div></div>"
      ],
      "text/plain": [
       "LogisticRegression()"
      ]
     },
     "execution_count": 17,
     "metadata": {},
     "output_type": "execute_result"
    }
   ],
   "source": [
    "from sklearn.linear_model import LogisticRegression\n",
    "\n",
    "lr=LogisticRegression()\n",
    "lr.fit(x_train,y_train)"
   ]
  },
  {
   "cell_type": "code",
   "execution_count": 18,
   "id": "3e8af37a",
   "metadata": {},
   "outputs": [],
   "source": [
    "y_pred=lr.predict(x_test)"
   ]
  },
  {
   "cell_type": "code",
   "execution_count": 19,
   "id": "ac7e8533",
   "metadata": {},
   "outputs": [
    {
     "name": "stdout",
     "output_type": "stream",
     "text": [
      "Accuracy Score = 95.01\n",
      "Precision Score = 95.17\n",
      "Recall Score = 95.01\n",
      "F1 Score = 94.98\n"
     ]
    }
   ],
   "source": [
    "acc=accuracy_score(y_pred,y_test)\n",
    "print('Accuracy Score = %0.2F'%(acc*100))\n",
    "prec=precision_score(y_pred,y_test,average='weighted')\n",
    "print('Precision Score = %0.2F'%(prec*100))\n",
    "rec=recall_score(y_pred,y_test,average='weighted')\n",
    "print('Recall Score = %0.2F'%(rec*100))\n",
    "f1=f1_score(y_pred,y_test,average='weighted')\n",
    "print('F1 Score = %0.2F'%(f1*100))"
   ]
  },
  {
   "cell_type": "code",
   "execution_count": 20,
   "id": "644511a2",
   "metadata": {},
   "outputs": [
    {
     "data": {
      "text/plain": [
       "array([[303,   6,   4],\n",
       "       [ 13, 284,  20],\n",
       "       [  2,   0, 269]], dtype=int64)"
      ]
     },
     "execution_count": 20,
     "metadata": {},
     "output_type": "execute_result"
    }
   ],
   "source": [
    "con=confusion_matrix(y_pred,y_test)\n",
    "con"
   ]
  },
  {
   "cell_type": "code",
   "execution_count": 21,
   "id": "9e9d7acc",
   "metadata": {},
   "outputs": [
    {
     "data": {
      "image/png": "[encoded data removed]",
      "text/plain": [
       "<Figure size 640x480 with 2 Axes>"
      ]
     },
     "metadata": {},
     "output_type": "display_data"
    }
   ],
   "source": [
    "axis=plt.subplot()\n",
    "sb.heatmap(con, annot=True, fmt='g',cmap='Greens')\n",
    "\n",
    "# labels, title and ticks\n",
    "axis.set_xlabel('Predicted labels')\n",
    "axis.set_ylabel('True labels')\n",
    "axis.set_title('Heat Map for Logistic Regression Classification')\n",
    "axis.xaxis.set_ticklabels(['Technology','Sports','Health'])\n",
    "axis.yaxis.set_ticklabels(['Technology','Sports','Health']);"
   ]
  },
  {
   "cell_type": "code",
   "execution_count": null,
   "id": "5fcc48c1",
   "metadata": {},
   "outputs": [],
   "source": []
  }
 ],
 "metadata": {
  "kernelspec": {
   "display_name": "Python 3 (ipykernel)",
   "language": "python",
   "name": "python3"
  },
  "language_info": {
   "codemirror_mode": {
    "name": "ipython",
    "version": 3
   },
   "file_extension": ".py",
   "mimetype": "text/x-python",
   "name": "python",
   "nbconvert_exporter": "python",
   "pygments_lexer": "ipython3",
   "version": "3.10.5"
  }
 },
 "nbformat": 4,
 "nbformat_minor": 5
}
